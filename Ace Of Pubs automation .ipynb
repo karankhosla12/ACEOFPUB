{
 "cells": [
  {
   "cell_type": "code",
   "execution_count": 1,
   "id": "4d56444b",
   "metadata": {},
   "outputs": [],
   "source": [
    "from datetime import datetime\n",
    "import pandas as pd\n",
    "import time "
   ]
  },
  {
   "cell_type": "code",
   "execution_count": 4,
   "id": "0a2dbea8",
   "metadata": {},
   "outputs": [],
   "source": [
    "data = pd.read_csv(\"Aceofpubsdummy.csv\")"
   ]
  },
  {
   "cell_type": "code",
   "execution_count": 5,
   "id": "5f16687a",
   "metadata": {},
   "outputs": [
    {
     "name": "stdout",
     "output_type": "stream",
     "text": [
      "2022-11-25 22:27:59.545276\n",
      "25-11-2022\n",
      "0    23-11-2022\n",
      "1    23-11-2022\n",
      "2    24-11-2022\n",
      "3    23-11-2022\n",
      "Name: Date, dtype: object\n"
     ]
    }
   ],
   "source": [
    "date_today = datetime.now()\n",
    "print(date_today)\n",
    "\n",
    "date_today = date_today.strftime(\"%d-%m-%Y\")\n",
    "print(date_today)\n",
    "d = data[\"Date\"]\n",
    "\n",
    "\n",
    "print(d)"
   ]
  },
  {
   "cell_type": "code",
   "execution_count": null,
   "id": "be4e12c3",
   "metadata": {},
   "outputs": [],
   "source": [
    "for i in data.index:\n",
    "    if(data[\"Date\"][i]== date_today):\n",
    "        import pywhatkit\n",
    "        print(i)\n",
    "    \n",
    "        hour = datetime.now().strftime(\"%H\")\n",
    "        minute = datetime.now().strftime(\"%M\")\n",
    "        hour = int(hour)\n",
    "        minute= int(minute)\n",
    " \n",
    "     # using Exception Handling to avoid\n",
    "    # unprecedented errors\n",
    "        try:\n",
    "   \n",
    "  # sending message to receiver\n",
    "  # using pywhatkit\n",
    "\n",
    "            pywhatkit.sendwhatmsg(\"+91\" + str(data[\"Phone Number - Host \"][i]),\n",
    "                      \"Hi, reminder for today Venue:  \" + str(data[\"Venu\"][i]) +\n",
    "                                  \"Event time: \" + str(data[\"time\"][i]) + \"Host : \" +  str(data[\"Host\"][i]) +  \"Logistics = \" + str(data[\"Logistics\"][i]) + \"  Photographer = \" + str(data[\"Photographer\"][i]) + \"  Please confirm \",\n",
    "                                  hour,minute+1)\n",
    "\n",
    "            print(\"Successfully Sent!\")\n",
    "            time.sleep(10)\n",
    "   \n",
    "        except:\n",
    "   \n",
    "  # handling exception\n",
    "  # and printing error message\n",
    "            print(\"An Unexpected Error!for host index : \"  + str(i))\n",
    "    \n",
    "  # message to Logistisc guy\n",
    "\n",
    "        try:\n",
    "   \n",
    "  # sending message to receiver\n",
    "  # using pywhatkit\n",
    "\n",
    "            pywhatkit.sendwhatmsg(\"+91\" + str(data[\"Phone Number - Logistics\"][i]),\n",
    "                      \"Hi, reminder for today Venue:  \" + str(data[\"Venu\"][i]) + \"Event time: \" + str(data[\"time\"][i]) + \"Host : \" +  str(data[\"Host\"][i]) +  \"Logistics = \" + str(data[\"Logistics\"][i]) + \"  Photographer = \" + str(data[\"Photographer\"][i]) + \"  Please confirm \",\n",
    "                        hour,minute + 2)\n",
    "            print(\"Successfully Sent!\")\n",
    "            time.sleep(10)\n",
    "   \n",
    "        except:\n",
    "   \n",
    "  # handling exception\n",
    "  # and printing error message\n",
    "            print(\"An Unexpected Error! for Logistics index : \" + str(i))\n",
    "\n",
    "    \n",
    "     # message to Photographer guy\n",
    "\n",
    "        try:\n",
    "   \n",
    "  # sending message to receiver\n",
    "  # using pywhatkit\n",
    "\n",
    "            pywhatkit.sendwhatmsg(\"+91\" + str(data[\"Phone Number - Photographer\"][i]),\n",
    "                      \"Hi, reminder for today Venue:  \" + str(data[\"Venu\"][i]) + \"Event time: \" + str(data[\"time\"][i]) + \"Host : \" +  str(data[\"Host\"][i]) +  \"Logistics = \" + str(data[\"Logistics\"][i]) + \"  Photographer = \" + str(data[\"Photographer\"][i]) + \"  Please confirm \",\n",
    "                        hour,minute + 3)\n",
    "            print(\"Successfully Sent!\")\n",
    "            time.sleep(10)\n",
    "   \n",
    "        except:\n",
    "   \n",
    "  # handling exception\n",
    "  # and printing error message\n",
    "            print(\"An Unexpected Error! for photographer  index : \"   + str(i) )\n",
    "    \n",
    "    \n",
    "\n",
    "\n",
    "\n"
   ]
  },
  {
   "cell_type": "code",
   "execution_count": null,
   "id": "645bfefc",
   "metadata": {},
   "outputs": [],
   "source": [
    "hour = datetime.now().strftime(\"%H\")\n",
    "minute = datetime.now().strftime(\"%M\")"
   ]
  },
  {
   "cell_type": "code",
   "execution_count": null,
   "id": "0072ccf5",
   "metadata": {},
   "outputs": [],
   "source": [
    "print (hour)"
   ]
  },
  {
   "cell_type": "code",
   "execution_count": null,
   "id": "2bfa8c35",
   "metadata": {},
   "outputs": [],
   "source": [
    "print(minute)"
   ]
  },
  {
   "cell_type": "code",
   "execution_count": null,
   "id": "16eb7828",
   "metadata": {},
   "outputs": [],
   "source": [
    "minute.type"
   ]
  },
  {
   "cell_type": "code",
   "execution_count": null,
   "id": "4cd999d4",
   "metadata": {},
   "outputs": [],
   "source": []
  }
 ],
 "metadata": {
  "kernelspec": {
   "display_name": "Python 3",
   "language": "python",
   "name": "python3"
  },
  "language_info": {
   "codemirror_mode": {
    "name": "ipython",
    "version": 3
   },
   "file_extension": ".py",
   "mimetype": "text/x-python",
   "name": "python",
   "nbconvert_exporter": "python",
   "pygments_lexer": "ipython3",
   "version": "3.8.8"
  }
 },
 "nbformat": 4,
 "nbformat_minor": 5
}
